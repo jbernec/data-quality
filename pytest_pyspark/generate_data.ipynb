{
 "cells": [
  {
   "cell_type": "code",
   "execution_count": 1,
   "metadata": {},
   "outputs": [],
   "source": [
    "from pyspark.sql import SparkSession\n",
    "from pyspark.sql.types import StructType, StructField, StringType, IntegerType\n",
    "import findspark\n",
    "findspark.init()"
   ]
  },
  {
   "cell_type": "code",
   "execution_count": 2,
   "metadata": {},
   "outputs": [],
   "source": [
    "\n",
    "\"\"\"\n",
    "Pytest fixture for creating a Spark session.\n",
    "\"\"\"\n",
    "spark = SparkSession.builder \\\n",
    "    .appName(\"Pytest-PySpark-Testing\") \\\n",
    "    .getOrCreate()\n"
   ]
  },
  {
   "cell_type": "code",
   "execution_count": 3,
   "metadata": {},
   "outputs": [
    {
     "name": "stdout",
     "output_type": "stream",
     "text": [
      "+---+--------+---+---------------+\n",
      "| id|    name|age|     profession|\n",
      "+---+--------+---+---------------+\n",
      "|  1|   Alice| 25|       Engineer|\n",
      "|  2|     Bob| 30|         Doctor|\n",
      "|  3| Charlie|   |         Artist|\n",
      "|  4|   David| 45|           Chef|\n",
      "|  5|     Eve| 28| Data Scientist|\n",
      "|  6|   Frank| 33|         Lawyer|\n",
      "+---+--------+---+---------------+\n",
      "\n"
     ]
    }
   ],
   "source": [
    "source_file = \"data/data.csv\"\n",
    "df = spark.read.format(\"csv\").options(inferschema=True,header=True).load(source_file)\n",
    "df.show()"
   ]
  },
  {
   "cell_type": "code",
   "execution_count": 4,
   "metadata": {},
   "outputs": [
    {
     "name": "stdout",
     "output_type": "stream",
     "text": [
      "root\n",
      " |-- id: integer (nullable = true)\n",
      " |-- name: string (nullable = true)\n",
      " |-- age: string (nullable = true)\n",
      " |-- profession: string (nullable = true)\n",
      "\n"
     ]
    }
   ],
   "source": [
    "df.printSchema()"
   ]
  }
 ],
 "metadata": {
  "kernelspec": {
   "display_name": "Python 3",
   "language": "python",
   "name": "python3"
  },
  "language_info": {
   "codemirror_mode": {
    "name": "ipython",
    "version": 3
   },
   "file_extension": ".py",
   "mimetype": "text/x-python",
   "name": "python",
   "nbconvert_exporter": "python",
   "pygments_lexer": "ipython3",
   "version": "3.11.9"
  }
 },
 "nbformat": 4,
 "nbformat_minor": 2
}
